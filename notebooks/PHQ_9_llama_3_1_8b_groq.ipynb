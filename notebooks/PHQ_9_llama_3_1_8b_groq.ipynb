{
  "nbformat": 4,
  "nbformat_minor": 0,
  "metadata": {
    "colab": {
      "provenance": []
    },
    "kernelspec": {
      "name": "python3",
      "display_name": "Python 3"
    },
    "language_info": {
      "name": "python"
    }
  },
  "cells": [
    {
      "cell_type": "code",
      "execution_count": null,
      "metadata": {
        "colab": {
          "base_uri": "https://localhost:8080/"
        },
        "id": "5OexuwP6UG7a",
        "outputId": "4ba96e68-661c-4016-a0dd-3dfc946d7166"
      },
      "outputs": [
        {
          "output_type": "stream",
          "name": "stdout",
          "text": [
            "Requirement already satisfied: groq in /usr/local/lib/python3.10/dist-packages (0.9.0)\n",
            "Requirement already satisfied: anyio<5,>=3.5.0 in /usr/local/lib/python3.10/dist-packages (from groq) (3.7.1)\n",
            "Requirement already satisfied: distro<2,>=1.7.0 in /usr/lib/python3/dist-packages (from groq) (1.7.0)\n",
            "Requirement already satisfied: httpx<1,>=0.23.0 in /usr/local/lib/python3.10/dist-packages (from groq) (0.27.0)\n",
            "Requirement already satisfied: pydantic<3,>=1.9.0 in /usr/local/lib/python3.10/dist-packages (from groq) (2.8.2)\n",
            "Requirement already satisfied: sniffio in /usr/local/lib/python3.10/dist-packages (from groq) (1.3.1)\n",
            "Requirement already satisfied: typing-extensions<5,>=4.7 in /usr/local/lib/python3.10/dist-packages (from groq) (4.12.2)\n",
            "Requirement already satisfied: idna>=2.8 in /usr/local/lib/python3.10/dist-packages (from anyio<5,>=3.5.0->groq) (3.7)\n",
            "Requirement already satisfied: exceptiongroup in /usr/local/lib/python3.10/dist-packages (from anyio<5,>=3.5.0->groq) (1.2.2)\n",
            "Requirement already satisfied: certifi in /usr/local/lib/python3.10/dist-packages (from httpx<1,>=0.23.0->groq) (2024.7.4)\n",
            "Requirement already satisfied: httpcore==1.* in /usr/local/lib/python3.10/dist-packages (from httpx<1,>=0.23.0->groq) (1.0.5)\n",
            "Requirement already satisfied: h11<0.15,>=0.13 in /usr/local/lib/python3.10/dist-packages (from httpcore==1.*->httpx<1,>=0.23.0->groq) (0.14.0)\n",
            "Requirement already satisfied: annotated-types>=0.4.0 in /usr/local/lib/python3.10/dist-packages (from pydantic<3,>=1.9.0->groq) (0.7.0)\n",
            "Requirement already satisfied: pydantic-core==2.20.1 in /usr/local/lib/python3.10/dist-packages (from pydantic<3,>=1.9.0->groq) (2.20.1)\n"
          ]
        }
      ],
      "source": [
        "!pip install groq"
      ]
    },
    {
      "cell_type": "code",
      "source": [
        "import os\n",
        "from google.colab import userdata\n",
        "os.environ[\"GROQ_API_KEY\"] = userdata.get('GROQ-llama-3.1')"
      ],
      "metadata": {
        "id": "CvJ-bRIRUfpA"
      },
      "execution_count": null,
      "outputs": []
    },
    {
      "cell_type": "code",
      "source": [
        "import requests\n",
        "import json\n",
        "\n",
        "input_file_path = \"sample_data/original_dataset.json\"\n",
        "output_file_path = \"sample_data/llama_3.1_output.json\"\n",
        "\n",
        "# input_file_path = \"sample_data/test_original.json\"\n",
        "# output_file_path = \"sample_data/test_output.json\""
      ],
      "metadata": {
        "id": "gmyufTJ2HCKL"
      },
      "execution_count": null,
      "outputs": []
    },
    {
      "cell_type": "code",
      "source": [
        "with open(input_file_path, \"r\") as input_file:\n",
        "    input_data = json.load(input_file)"
      ],
      "metadata": {
        "id": "uO3AHXvPrNBX"
      },
      "execution_count": null,
      "outputs": []
    },
    {
      "cell_type": "code",
      "source": [
        "from groq import Groq\n",
        "\n",
        "client = Groq(\n",
        "    api_key=os.environ.get(\"GROQ_API_KEY\"),\n",
        ")\n",
        "\n",
        "base_instruction = \"\"\" When given the below JSON formatted file content, I need you to give me the specific sentences from the text that exhibit a set of symptoms which are under the annotations section. Below is an example of INPUT and OUTPUT. Just give me the outputs, do not give any code or re-output the prompting, do not just give \"yes\" or \"no\" again, give the actual sentences. Keep JSON Formatting. And make sure to always return all the components of each of the objects, so always include \"post_text\", \"post_title\", and \"annotations\":\n",
        "\n",
        "{\n",
        "    \"post_title\": \"I don't feel original anymore.\",\n",
        "    \"post_text\": \"When I was in high school a few years back, I was one of the highest competitors in my school. I joined the high school band in freshman year and by senior year I became one of the best in my section. My academics were always straight and I exercised daily. Senior year I enlisted in the military and now I believe it was one of my worst decisions in life. Before I went to boot camp I was motivated, a patriot and believed that the elite joined the military. In senior year I never applied for any scholarships and I was offered one but turned it down because I already signed the papers. I thought I set myself up for success. Now I believe I was dead wrong for joining. The only benefit I see so far after a year and a half of service is that I'm trying to set myself up financially before I get out and hopefully attend college. It sounds like a plan but I feel no happiness from what I do at all. I convinced myself there's no honor in it anymore, it's just another job. I don't exercise by myself anymore. I feel like I'm not progressing anywhere in life being in service. I'm just a body and if I wasn't here doing what I'm doing, there'd just be somebody else doing the exact same. I'm replaceable. That's the mindset the military gave me. I look forward to going back home in 6 months for vacation and that's the only thing I've been looking forward to since I've been stationed. After that, the only thing I have my eyes on are getting out of service, going home, being closer to my family again. There's nothing here that satisfies me and I hate it. I feel like I've tried everything to be happy here but it seems impossible. I wish somebody could help.\",\n",
        "    \"annotations\": [\n",
        "      [\n",
        "        \"Feeling-bad-about-yourself-or-that-you-are-a-failure-or-have-let-yourself-or-your-family-down\",\n",
        "        \"yes\"\n",
        "      ],\n",
        "      [\n",
        "        \"Feeling-down-depressed-or-hopeless\",\n",
        "        \"no\"\n",
        "      ],\n",
        "      [\n",
        "        \"Feeling-tired-or-having-little-energy\",\n",
        "        \"yes\"\n",
        "      ],\n",
        "      [\n",
        "        \"Little-interest-or-pleasure-in-doing\",\n",
        "        \"yes\"\n",
        "      ],\n",
        "      [\n",
        "        \"Moving-or-speaking-so-slowly-that-other-people-could-have-noticed-Or-the-opposite-being-so-fidgety-or-restless-that-you-have-been-moving-around-a-lot-more-than-usual\",\n",
        "        \"no\"\n",
        "      ],\n",
        "      [\n",
        "        \"Poor-appetite-or-overeating\",\n",
        "        \"no\"\n",
        "      ],\n",
        "      [\n",
        "        \"Thoughts-that-you-would-be-better-off-dead-or-of-hurting-yourself-in-some-way\",\n",
        "        \"no\"\n",
        "      ],\n",
        "      [\n",
        "        \"Trouble-concentrating-on-things-such-as-reading-the-newspaper-or-watching-television\",\n",
        "        \"no\"\n",
        "      ],\n",
        "      [\n",
        "        \"Trouble-falling-or-staying-asleep-or-sleeping-too-much\",\n",
        "        \"no\"\n",
        "      ]\n",
        "    ]\n",
        "}\n",
        "\n",
        "And this is an example expected output format:\n",
        "\n",
        "{\n",
        "    \"post_title\": \"I don't feel original anymore.\",\n",
        "    \"post_text\": \"When I was in high school a few years back, I was one of the highest competitors in my school. I joined the high school band in freshman year and by senior year I became one of the best in my section. My academics were always straight, and I exercised daily. Senior year I enlisted in the military, and now I believe it was one of my worst decisions in life. Before I went to boot camp I was motivated, a patriot and believed that the elite joined the military. In senior year I never applied for any scholarships and I was offered one but turned it down because I already signed the papers. I thought I set myself up for success. Now I believe I was dead wrong for joining. The only benefit I see so far after a year and a half of service is that I'm trying to set myself up financially before I get out and hopefully attend college. It sounds like a plan but I feel no happiness from what I do at all. I convinced myself there's no honor in it anymore; it's just another job. I don't exercise by myself anymore. I feel like I'm not progressing anywhere in life being in service. I'm just a body, and if I wasn't here doing what I'm doing, there'd just be somebody else doing the exact same. I'm replaceable. That's the mindset the military gave me. I look forward to going back home in 6 months for vacation, and that's the only thing I've been looking forward to since I've been stationed. After that, the only thing I have my eyes on is getting out of service, going home, being closer to my family again. There's nothing here that satisfies me, and I hate it. I feel like I've tried everything to be happy here but it seems impossible. I wish somebody could help.\",\n",
        "    \"annotations\": {\n",
        "      \"Feeling-bad-about-yourself-or-that-you-are-a-failure-or-have-let-yourself-or-your-family-down\": [\n",
        "        \"I thought I set myself up for success. Now I believe I was dead wrong for joining.\"\n",
        "      ],\n",
        "      \"Feeling-down-depressed-or-hopeless\": [],\n",
        "      \"Feeling-tired-or-having-little-energy\": [\n",
        "        \"I feel like I'm not progressing anywhere in life being in service.\"\n",
        "      ],\n",
        "      \"Little-interest-or-pleasure-in-doing\": [\n",
        "        \"There's nothing here that satisfies me, and I hate it.\"\n",
        "      ],\n",
        "      \"Moving-or-speaking-so-slowly-that-other-people-could-have-noticed-Or-the-opposite-being-so-fidgety-or-restless-that-you-have-been-moving-around-a-lot-more-than-usual\": [],\n",
        "      \"Poor-appetite-or-overeating\": [],\n",
        "      \"Thoughts-that-you-would-be-better-off-dead-or-of-hurting-yourself-in-some-way\": [],\n",
        "      \"Trouble-concentrating-on-things-such-as-reading-the-newspaper-or-watching-television\": [],\n",
        "      \"Trouble-falling-or-staying-asleep-or-sleeping-too-much\": []\n",
        "    }\n",
        "  },\n",
        "\n",
        "May I proceed with the rest of the INPUTS? \"\"\""
      ],
      "metadata": {
        "id": "KxFPt5B_XU0J"
      },
      "execution_count": null,
      "outputs": []
    },
    {
      "cell_type": "code",
      "source": [
        "import json\n",
        "\n",
        "results = []\n",
        "\n",
        "# Function to process each JSON object and collect the output\n",
        "def process_and_collect_output(obj):\n",
        "    # Construct the prompt\n",
        "    full_prompt = f\"{base_instruction} {json.dumps(obj, indent=2)}\"\n",
        "\n",
        "    # Prepare the payload\n",
        "    payload = {\n",
        "        \"messages\": [\n",
        "            {\"role\": \"user\", \"content\": full_prompt}\n",
        "        ],\n",
        "        \"model\": \"llama-3.1-8b-instant\"\n",
        "    }\n",
        "\n",
        "    try:\n",
        "        # Call the Groq API\n",
        "        chat_completion = client.chat.completions.create(**payload)\n",
        "\n",
        "        # Extract the LLM output\n",
        "        llm_output = chat_completion.choices[0].message.content\n",
        "\n",
        "        # Clean up the LLM output (remove unwanted characters or text if necessary)\n",
        "        llm_output = llm_output.strip()  # Strip any extra whitespace\n",
        "        # Handle cases where output is not valid JSON\n",
        "        try:\n",
        "            result = json.loads(llm_output)\n",
        "        except json.JSONDecodeError:\n",
        "            print(f\"Error decoding JSON from output: {llm_output}\")\n",
        "            result = {}  # Use an empty dictionary or handle as needed\n",
        "\n",
        "        # Append output to results list\n",
        "        results.append(result)\n",
        "\n",
        "    except Exception as e:\n",
        "        print(f\"Error processing object: {e}\")\n",
        "\n",
        "# Process and collect results for each object\n",
        "for obj in input_data:\n",
        "    process_and_collect_output(obj)\n",
        "\n",
        "# Write results to output file with comma-separated JSON objects\n",
        "with open(output_file_path, \"w\") as output_file:\n",
        "    output_file.write(\"[\\n\")  # Start the JSON array\n",
        "    first = True\n",
        "    for result in results:\n",
        "        if not first:\n",
        "            output_file.write(\",\\n\")\n",
        "        json.dump(result, output_file, indent=2)\n",
        "        first = False\n",
        "    output_file.write(\"\\n]\")  # End the JSON array\n"
      ],
      "metadata": {
        "colab": {
          "base_uri": "https://localhost:8080/"
        },
        "id": "3fgxeiIjuB9D",
        "outputId": "a04ab795-8092-4e8c-9fac-8571f5655da9"
      },
      "execution_count": null,
      "outputs": [
        {
          "output_type": "stream",
          "name": "stdout",
          "text": [
            "Error processing object: Error code: 429 - {'error': {'message': 'Rate limit reached for model `llama-3.1-8b-instant` in organization `org_01j5nsmm8xfc084dq4sm82m2qx` on : Limit 1000000, Used 1000552, Requested 1990. Please try again in 3m39.6522s. Visit https://console.groq.com/docs/rate-limits for more information.', 'type': '', 'code': 'rate_limit_exceeded'}}\n",
            "Error processing object: Error code: 429 - {'error': {'message': 'Rate limit reached for model `llama-3.1-8b-instant` in organization `org_01j5nsmm8xfc084dq4sm82m2qx` on : Limit 1000000, Used 1000551, Requested 2805. Please try again in 4m50.0092s. Visit https://console.groq.com/docs/rate-limits for more information.', 'type': '', 'code': 'rate_limit_exceeded'}}\n",
            "Error processing object: Error code: 429 - {'error': {'message': 'Rate limit reached for model `llama-3.1-8b-instant` in organization `org_01j5nsmm8xfc084dq4sm82m2qx` on : Limit 1000000, Used 1000550, Requested 1957. Please try again in 3m36.67s. Visit https://console.groq.com/docs/rate-limits for more information.', 'type': '', 'code': 'rate_limit_exceeded'}}\n",
            "Error processing object: Error code: 429 - {'error': {'message': 'Rate limit reached for model `llama-3.1-8b-instant` in organization `org_01j5nsmm8xfc084dq4sm82m2qx` on : Limit 1000000, Used 1000550, Requested 2045. Please try again in 3m44.2122s. Visit https://console.groq.com/docs/rate-limits for more information.', 'type': '', 'code': 'rate_limit_exceeded'}}\n",
            "Error processing object: Error code: 429 - {'error': {'message': 'Rate limit reached for model `llama-3.1-8b-instant` in organization `org_01j5nsmm8xfc084dq4sm82m2qx` on : Limit 1000000, Used 1000549, Requested 2063. Please try again in 3m45.6984s. Visit https://console.groq.com/docs/rate-limits for more information.', 'type': '', 'code': 'rate_limit_exceeded'}}\n",
            "Error processing object: Error code: 429 - {'error': {'message': 'Rate limit reached for model `llama-3.1-8b-instant` in organization `org_01j5nsmm8xfc084dq4sm82m2qx` on : Limit 1000000, Used 1000548, Requested 2022. Please try again in 3m42.096s. Visit https://console.groq.com/docs/rate-limits for more information.', 'type': '', 'code': 'rate_limit_exceeded'}}\n",
            "Error processing object: Error code: 429 - {'error': {'message': 'Rate limit reached for model `llama-3.1-8b-instant` in organization `org_01j5nsmm8xfc084dq4sm82m2qx` on : Limit 1000000, Used 1000547, Requested 1899. Please try again in 3m31.4108s. Visit https://console.groq.com/docs/rate-limits for more information.', 'type': '', 'code': 'rate_limit_exceeded'}}\n",
            "Error processing object: Error code: 429 - {'error': {'message': 'Rate limit reached for model `llama-3.1-8b-instant` in organization `org_01j5nsmm8xfc084dq4sm82m2qx` on : Limit 1000000, Used 1000547, Requested 1979. Please try again in 3m38.2618s. Visit https://console.groq.com/docs/rate-limits for more information.', 'type': '', 'code': 'rate_limit_exceeded'}}\n",
            "Error processing object: Error code: 429 - {'error': {'message': 'Rate limit reached for model `llama-3.1-8b-instant` in organization `org_01j5nsmm8xfc084dq4sm82m2qx` on : Limit 1000000, Used 1000546, Requested 2007. Please try again in 3m40.628s. Visit https://console.groq.com/docs/rate-limits for more information.', 'type': '', 'code': 'rate_limit_exceeded'}}\n",
            "Error processing object: Error code: 429 - {'error': {'message': 'Rate limit reached for model `llama-3.1-8b-instant` in organization `org_01j5nsmm8xfc084dq4sm82m2qx` on : Limit 1000000, Used 1000545, Requested 2103. Please try again in 3m48.8584s. Visit https://console.groq.com/docs/rate-limits for more information.', 'type': '', 'code': 'rate_limit_exceeded'}}\n",
            "Error processing object: Error code: 429 - {'error': {'message': 'Rate limit reached for model `llama-3.1-8b-instant` in organization `org_01j5nsmm8xfc084dq4sm82m2qx` on : Limit 1000000, Used 1000545, Requested 1950. Please try again in 3m35.5762s. Visit https://console.groq.com/docs/rate-limits for more information.', 'type': '', 'code': 'rate_limit_exceeded'}}\n",
            "Error processing object: Error code: 429 - {'error': {'message': 'Rate limit reached for model `llama-3.1-8b-instant` in organization `org_01j5nsmm8xfc084dq4sm82m2qx` on : Limit 1000000, Used 1000544, Requested 1947. Please try again in 3m35.257999999s. Visit https://console.groq.com/docs/rate-limits for more information.', 'type': '', 'code': 'rate_limit_exceeded'}}\n",
            "Error processing object: Error code: 429 - {'error': {'message': 'Rate limit reached for model `llama-3.1-8b-instant` in organization `org_01j5nsmm8xfc084dq4sm82m2qx` on : Limit 1000000, Used 1000543, Requested 2010. Please try again in 3m40.642199999s. Visit https://console.groq.com/docs/rate-limits for more information.', 'type': '', 'code': 'rate_limit_exceeded'}}\n",
            "Error processing object: Error code: 429 - {'error': {'message': 'Rate limit reached for model `llama-3.1-8b-instant` in organization `org_01j5nsmm8xfc084dq4sm82m2qx` on : Limit 1000000, Used 1000542, Requested 2266. Please try again in 4m2.695599999s. Visit https://console.groq.com/docs/rate-limits for more information.', 'type': '', 'code': 'rate_limit_exceeded'}}\n",
            "Error processing object: Error code: 429 - {'error': {'message': 'Rate limit reached for model `llama-3.1-8b-instant` in organization `org_01j5nsmm8xfc084dq4sm82m2qx` on : Limit 1000000, Used 1000542, Requested 2143. Please try again in 3m52.0014s. Visit https://console.groq.com/docs/rate-limits for more information.', 'type': '', 'code': 'rate_limit_exceeded'}}\n",
            "Error processing object: Error code: 429 - {'error': {'message': 'Rate limit reached for model `llama-3.1-8b-instant` in organization `org_01j5nsmm8xfc084dq4sm82m2qx` on : Limit 1000000, Used 1000541, Requested 2051. Please try again in 3m43.992599999s. Visit https://console.groq.com/docs/rate-limits for more information.', 'type': '', 'code': 'rate_limit_exceeded'}}\n",
            "Error processing object: Error code: 429 - {'error': {'message': 'Rate limit reached for model `llama-3.1-8b-instant` in organization `org_01j5nsmm8xfc084dq4sm82m2qx` on : Limit 1000000, Used 1000540, Requested 2640. Please try again in 4m34.8192s. Visit https://console.groq.com/docs/rate-limits for more information.', 'type': '', 'code': 'rate_limit_exceeded'}}\n",
            "Error processing object: Error code: 429 - {'error': {'message': 'Rate limit reached for model `llama-3.1-8b-instant` in organization `org_01j5nsmm8xfc084dq4sm82m2qx` on : Limit 1000000, Used 1000540, Requested 2118. Please try again in 3m49.6514s. Visit https://console.groq.com/docs/rate-limits for more information.', 'type': '', 'code': 'rate_limit_exceeded'}}\n"
          ]
        }
      ]
    },
    {
      "cell_type": "code",
      "source": [],
      "metadata": {
        "id": "qE6Jc65RJy8m"
      },
      "execution_count": null,
      "outputs": []
    }
  ]
}